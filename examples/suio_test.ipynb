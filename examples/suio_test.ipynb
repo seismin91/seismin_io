{
 "cells": [
  {
   "cell_type": "code",
   "execution_count": 1,
   "id": "e1eb4e56-0f1a-4374-8f9a-7e2e1eb497e3",
   "metadata": {},
   "outputs": [],
   "source": [
    "%load_ext autoreload\n",
    "%autoreload 2"
   ]
  },
  {
   "cell_type": "code",
   "execution_count": 2,
   "id": "99d8bc5a-0045-4203-90ef-a6aec1effb79",
   "metadata": {},
   "outputs": [],
   "source": [
    "import numpy as np\n",
    "import matplotlib.pyplot as plt"
   ]
  },
  {
   "cell_type": "code",
   "execution_count": 3,
   "id": "29405fa2-ff1f-48f1-bd59-6c63e356f814",
   "metadata": {},
   "outputs": [],
   "source": [
    "! suplane  > sudata.su"
   ]
  },
  {
   "cell_type": "code",
   "execution_count": null,
   "id": "b50bf8d0-95f5-40fd-97fc-9e692190890d",
   "metadata": {},
   "outputs": [],
   "source": []
  },
  {
   "cell_type": "code",
   "execution_count": 13,
   "id": "a97bf850-5ee8-415e-a96f-52a121a869b1",
   "metadata": {},
   "outputs": [],
   "source": [
    "from suio import suio "
   ]
  },
  {
   "cell_type": "code",
   "execution_count": 16,
   "id": "d95029b7-1cbe-47f6-896a-4dd8c3b67795",
   "metadata": {},
   "outputs": [
    {
     "data": {
      "text/plain": [
       "\u001b[0;31mInit signature:\u001b[0m \u001b[0msuio\u001b[0m\u001b[0;34m(\u001b[0m\u001b[0;34m)\u001b[0m\u001b[0;34m\u001b[0m\u001b[0;34m\u001b[0m\u001b[0m\n",
       "\u001b[0;31mDocstring:\u001b[0m     \n",
       "Python I/O module for seismic dataset with Seismic Un*x format ( Copyright ⓒ 2025 Sumin Kim ) \n",
       "\n",
       "Author       :  Dr. Sumin Kim\n",
       "Affiliation  :  National Korea Maritime and Ocean University\n",
       "E-mail       :  seisminic@gmail.com\n",
       "github       :  https://github.com/seismin91/\n",
       "\n",
       "\n",
       "\n",
       "Main functions\n",
       "--------------\n",
       "1.  read_su  : to load header and trace from seismic data with Seismic Un*x format\n",
       "    returns  : dictionary\n",
       "\n",
       "2.  write_su : to save header and trace to file with Seismic Un*x format\n",
       "    returns  : None \n",
       "    \n",
       "Examples\n",
       "--------\n",
       "1. read_su\n",
       "\n",
       "* Implementation\n",
       "----------------\n",
       "\n",
       ">>> from suio import suio\n",
       ">>> filename = \"test_read.su\"\n",
       ">>> suio = suio()\n",
       ">>> result_read = suio.read_su(filename)\n",
       ">>> result_read.keys()\n",
       "dict_keys(['tracl', 'tracr', 'fldr', 'tracf', 'ep', 'cdp', 'cdpt', 'offset', 'swdep', 'gwdep', 'sx', 'sy', 'gx', 'gy', 'cdpx', 'cdpy', 'trace'])\n",
       "\n",
       ">>> tracl  =  result_read[ 'tracl' ].copy()\n",
       ">>> ...\n",
       "\n",
       "2. write_su\n",
       "\n",
       "*Pre-requisite\n",
       "--------------\n",
       "trace        : 2D array (nt, nshot * nrcv)\n",
       "      nt     : number of time samples\n",
       "      nshot  : number of shots\n",
       "      nrcv   : number of receivers\n",
       "\n",
       "headers      : dictionary\n",
       "    ex) headers = {\n",
       "                    'tracl' : tracl_array,\n",
       "                    'fldr'  : fldr_array\n",
       "                  }\n",
       "\n",
       "* Implementation\n",
       "----------------\n",
       "\n",
       ">>> from suio import suio\n",
       ">>> filename = \"test_write.su\"\n",
       ">>> suio = suio()\n",
       ">>> suio.write_su(filename, trace, headers)\n",
       "\u001b[0;31mFile:\u001b[0m           ~/kmou_seismin/utils/seismic_unix/io_python/suio.py\n",
       "\u001b[0;31mType:\u001b[0m           type\n",
       "\u001b[0;31mSubclasses:\u001b[0m     "
      ]
     },
     "metadata": {},
     "output_type": "display_data"
    }
   ],
   "source": [
    "?suio"
   ]
  },
  {
   "cell_type": "code",
   "execution_count": 17,
   "id": "bbd9f340-c77a-40c1-baa5-636f8229342f",
   "metadata": {},
   "outputs": [],
   "source": [
    "filename = './sudata.su'"
   ]
  },
  {
   "cell_type": "code",
   "execution_count": 18,
   "id": "8e133936-c768-492e-a4ed-9d7af1c5a4a5",
   "metadata": {},
   "outputs": [
    {
     "name": "stdout",
     "output_type": "stream",
     "text": [
      " ***  Successfully imported I/O module for seismic Un*x format  *** \n",
      " \n",
      "      For detail usage of this module, please refer to '?suio'      \n",
      " \n"
     ]
    }
   ],
   "source": [
    "su = suio()"
   ]
  },
  {
   "cell_type": "markdown",
   "id": "240adb05-6d95-409f-ba14-2e844989e46d",
   "metadata": {},
   "source": [
    "### __Reading test__"
   ]
  },
  {
   "cell_type": "code",
   "execution_count": 30,
   "id": "d27e3311-6bcd-4051-9746-9dd440150700",
   "metadata": {},
   "outputs": [
    {
     "name": "stdout",
     "output_type": "stream",
     "text": [
      " *** Finished reading the data with Seismic Un*x format *** \n",
      "\n",
      " Number of time samples   : 64 \n",
      " Number of total traces   : 32  \n",
      " \n"
     ]
    }
   ],
   "source": [
    "data = su.read_su(filename)"
   ]
  },
  {
   "cell_type": "code",
   "execution_count": 20,
   "id": "5730b1ac-a918-4979-add0-bf83a9196164",
   "metadata": {},
   "outputs": [
    {
     "data": {
      "text/plain": [
       "dict_keys(['tracl', 'tracr', 'fldr', 'tracf', 'ep', 'cdp', 'cdpt', 'offset', 'swdep', 'gwdep', 'sx', 'sy', 'gx', 'gy', 'cdpx', 'cdpy', 'trace'])"
      ]
     },
     "execution_count": 20,
     "metadata": {},
     "output_type": "execute_result"
    }
   ],
   "source": [
    "data.keys()"
   ]
  },
  {
   "cell_type": "code",
   "execution_count": null,
   "id": "05c1d122-5e55-43de-a013-c807acc04eb4",
   "metadata": {},
   "outputs": [],
   "source": []
  },
  {
   "cell_type": "code",
   "execution_count": null,
   "id": "6aaa3eb8-8928-41ae-b14a-2314670781cf",
   "metadata": {},
   "outputs": [],
   "source": []
  },
  {
   "cell_type": "markdown",
   "id": "9445c6c3-2e55-459d-9ed5-d384e6c3ef52",
   "metadata": {},
   "source": [
    "### __Writing test__"
   ]
  },
  {
   "cell_type": "code",
   "execution_count": 22,
   "id": "9ee2664d-8030-49ef-be2b-6099988bbcfd",
   "metadata": {},
   "outputs": [],
   "source": [
    "wfilename = './written_sudata.su'"
   ]
  },
  {
   "cell_type": "code",
   "execution_count": 23,
   "id": "beefb11f-6d3e-43f5-9451-72973f8286c5",
   "metadata": {},
   "outputs": [],
   "source": [
    "su.file_open(wfilename)"
   ]
  },
  {
   "cell_type": "code",
   "execution_count": 25,
   "id": "806611f1-9c66-48aa-af10-071a3516e7f8",
   "metadata": {},
   "outputs": [],
   "source": [
    "headers = {\"tracl\":data['tracl'],\n",
    "           \"tracr\":data['tracr'],\n",
    "           \"offset\":data['offset'],\n",
    "          \"cdp\" : data['cdp']}"
   ]
  },
  {
   "cell_type": "code",
   "execution_count": null,
   "id": "2205affb-bd60-4ebc-a46f-84d6ce375c50",
   "metadata": {},
   "outputs": [],
   "source": []
  },
  {
   "cell_type": "code",
   "execution_count": 27,
   "id": "35127470-d347-481f-aeb1-456e7f0ae607",
   "metadata": {},
   "outputs": [],
   "source": [
    "seis_data = np.swapaxes(data['trace'],axis1=1, axis2=0)\n",
    "su.write_su(wfilename, \n",
    "            seis_data,\n",
    "            headers)"
   ]
  },
  {
   "cell_type": "code",
   "execution_count": 28,
   "id": "fcda9a54-49fb-4f9d-9058-6409436f14ff",
   "metadata": {},
   "outputs": [
    {
     "name": "stdout",
     "output_type": "stream",
     "text": [
      "32 traces:\n",
      "tracl    1 32 (1 - 32)\n",
      "tracr    1 32 (1 - 32)\n",
      "offset   400\n",
      "ns       64\n"
     ]
    }
   ],
   "source": [
    "!surange < written_sudata.su"
   ]
  },
  {
   "cell_type": "code",
   "execution_count": null,
   "id": "b12e1bc3-e113-485e-a03f-d6d4af38d231",
   "metadata": {},
   "outputs": [],
   "source": [
    "pip install twine\n",
    "python setup.py sdist\n",
    "twine upload dist/*\n"
   ]
  }
 ],
 "metadata": {
  "kernelspec": {
   "display_name": "Python 3 (ipykernel)",
   "language": "python",
   "name": "python3"
  },
  "language_info": {
   "codemirror_mode": {
    "name": "ipython",
    "version": 3
   },
   "file_extension": ".py",
   "mimetype": "text/x-python",
   "name": "python",
   "nbconvert_exporter": "python",
   "pygments_lexer": "ipython3",
   "version": "3.9.18"
  }
 },
 "nbformat": 4,
 "nbformat_minor": 5
}
